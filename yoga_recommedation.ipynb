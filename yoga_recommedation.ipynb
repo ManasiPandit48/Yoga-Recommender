{
  "nbformat": 4,
  "nbformat_minor": 0,
  "metadata": {
    "colab": {
      "provenance": [],
      "gpuType": "T4"
    },
    "kernelspec": {
      "name": "python3",
      "display_name": "Python 3"
    },
    "language_info": {
      "name": "python"
    },
    "accelerator": "GPU"
  },
  "cells": [
    {
      "cell_type": "code",
      "source": [
        "!pip install gradio"
      ],
      "metadata": {
        "colab": {
          "base_uri": "https://localhost:8080/"
        },
        "id": "bCbMPNe4E-Bq",
        "outputId": "1850d2ed-b494-4066-efaf-e4f8975067ff"
      },
      "execution_count": 8,
      "outputs": [
        {
          "output_type": "stream",
          "name": "stdout",
          "text": [
            "Collecting gradio\n",
            "  Downloading gradio-5.23.1-py3-none-any.whl.metadata (16 kB)\n",
            "Collecting aiofiles<24.0,>=22.0 (from gradio)\n",
            "  Downloading aiofiles-23.2.1-py3-none-any.whl.metadata (9.7 kB)\n",
            "Requirement already satisfied: anyio<5.0,>=3.0 in /usr/local/lib/python3.11/dist-packages (from gradio) (4.9.0)\n",
            "Collecting fastapi<1.0,>=0.115.2 (from gradio)\n",
            "  Downloading fastapi-0.115.12-py3-none-any.whl.metadata (27 kB)\n",
            "Collecting ffmpy (from gradio)\n",
            "  Downloading ffmpy-0.5.0-py3-none-any.whl.metadata (3.0 kB)\n",
            "Collecting gradio-client==1.8.0 (from gradio)\n",
            "  Downloading gradio_client-1.8.0-py3-none-any.whl.metadata (7.1 kB)\n",
            "Collecting groovy~=0.1 (from gradio)\n",
            "  Downloading groovy-0.1.2-py3-none-any.whl.metadata (6.1 kB)\n",
            "Requirement already satisfied: httpx>=0.24.1 in /usr/local/lib/python3.11/dist-packages (from gradio) (0.28.1)\n",
            "Requirement already satisfied: huggingface-hub>=0.28.1 in /usr/local/lib/python3.11/dist-packages (from gradio) (0.29.3)\n",
            "Requirement already satisfied: jinja2<4.0 in /usr/local/lib/python3.11/dist-packages (from gradio) (3.1.6)\n",
            "Requirement already satisfied: markupsafe<4.0,>=2.0 in /usr/local/lib/python3.11/dist-packages (from gradio) (3.0.2)\n",
            "Requirement already satisfied: numpy<3.0,>=1.0 in /usr/local/lib/python3.11/dist-packages (from gradio) (2.0.2)\n",
            "Requirement already satisfied: orjson~=3.0 in /usr/local/lib/python3.11/dist-packages (from gradio) (3.10.15)\n",
            "Requirement already satisfied: packaging in /usr/local/lib/python3.11/dist-packages (from gradio) (24.2)\n",
            "Requirement already satisfied: pandas<3.0,>=1.0 in /usr/local/lib/python3.11/dist-packages (from gradio) (2.2.2)\n",
            "Requirement already satisfied: pillow<12.0,>=8.0 in /usr/local/lib/python3.11/dist-packages (from gradio) (11.1.0)\n",
            "Requirement already satisfied: pydantic>=2.0 in /usr/local/lib/python3.11/dist-packages (from gradio) (2.10.6)\n",
            "Collecting pydub (from gradio)\n",
            "  Downloading pydub-0.25.1-py2.py3-none-any.whl.metadata (1.4 kB)\n",
            "Collecting python-multipart>=0.0.18 (from gradio)\n",
            "  Downloading python_multipart-0.0.20-py3-none-any.whl.metadata (1.8 kB)\n",
            "Requirement already satisfied: pyyaml<7.0,>=5.0 in /usr/local/lib/python3.11/dist-packages (from gradio) (6.0.2)\n",
            "Collecting ruff>=0.9.3 (from gradio)\n",
            "  Downloading ruff-0.11.2-py3-none-manylinux_2_17_x86_64.manylinux2014_x86_64.whl.metadata (25 kB)\n",
            "Collecting safehttpx<0.2.0,>=0.1.6 (from gradio)\n",
            "  Downloading safehttpx-0.1.6-py3-none-any.whl.metadata (4.2 kB)\n",
            "Collecting semantic-version~=2.0 (from gradio)\n",
            "  Downloading semantic_version-2.10.0-py2.py3-none-any.whl.metadata (9.7 kB)\n",
            "Collecting starlette<1.0,>=0.40.0 (from gradio)\n",
            "  Downloading starlette-0.46.1-py3-none-any.whl.metadata (6.2 kB)\n",
            "Collecting tomlkit<0.14.0,>=0.12.0 (from gradio)\n",
            "  Downloading tomlkit-0.13.2-py3-none-any.whl.metadata (2.7 kB)\n",
            "Requirement already satisfied: typer<1.0,>=0.12 in /usr/local/lib/python3.11/dist-packages (from gradio) (0.15.2)\n",
            "Requirement already satisfied: typing-extensions~=4.0 in /usr/local/lib/python3.11/dist-packages (from gradio) (4.12.2)\n",
            "Collecting uvicorn>=0.14.0 (from gradio)\n",
            "  Downloading uvicorn-0.34.0-py3-none-any.whl.metadata (6.5 kB)\n",
            "Requirement already satisfied: fsspec in /usr/local/lib/python3.11/dist-packages (from gradio-client==1.8.0->gradio) (2025.3.0)\n",
            "Requirement already satisfied: websockets<16.0,>=10.0 in /usr/local/lib/python3.11/dist-packages (from gradio-client==1.8.0->gradio) (15.0.1)\n",
            "Requirement already satisfied: idna>=2.8 in /usr/local/lib/python3.11/dist-packages (from anyio<5.0,>=3.0->gradio) (3.10)\n",
            "Requirement already satisfied: sniffio>=1.1 in /usr/local/lib/python3.11/dist-packages (from anyio<5.0,>=3.0->gradio) (1.3.1)\n",
            "Requirement already satisfied: certifi in /usr/local/lib/python3.11/dist-packages (from httpx>=0.24.1->gradio) (2025.1.31)\n",
            "Requirement already satisfied: httpcore==1.* in /usr/local/lib/python3.11/dist-packages (from httpx>=0.24.1->gradio) (1.0.7)\n",
            "Requirement already satisfied: h11<0.15,>=0.13 in /usr/local/lib/python3.11/dist-packages (from httpcore==1.*->httpx>=0.24.1->gradio) (0.14.0)\n",
            "Requirement already satisfied: filelock in /usr/local/lib/python3.11/dist-packages (from huggingface-hub>=0.28.1->gradio) (3.18.0)\n",
            "Requirement already satisfied: requests in /usr/local/lib/python3.11/dist-packages (from huggingface-hub>=0.28.1->gradio) (2.32.3)\n",
            "Requirement already satisfied: tqdm>=4.42.1 in /usr/local/lib/python3.11/dist-packages (from huggingface-hub>=0.28.1->gradio) (4.67.1)\n",
            "Requirement already satisfied: python-dateutil>=2.8.2 in /usr/local/lib/python3.11/dist-packages (from pandas<3.0,>=1.0->gradio) (2.8.2)\n",
            "Requirement already satisfied: pytz>=2020.1 in /usr/local/lib/python3.11/dist-packages (from pandas<3.0,>=1.0->gradio) (2025.1)\n",
            "Requirement already satisfied: tzdata>=2022.7 in /usr/local/lib/python3.11/dist-packages (from pandas<3.0,>=1.0->gradio) (2025.1)\n",
            "Requirement already satisfied: annotated-types>=0.6.0 in /usr/local/lib/python3.11/dist-packages (from pydantic>=2.0->gradio) (0.7.0)\n",
            "Requirement already satisfied: pydantic-core==2.27.2 in /usr/local/lib/python3.11/dist-packages (from pydantic>=2.0->gradio) (2.27.2)\n",
            "Requirement already satisfied: click>=8.0.0 in /usr/local/lib/python3.11/dist-packages (from typer<1.0,>=0.12->gradio) (8.1.8)\n",
            "Requirement already satisfied: shellingham>=1.3.0 in /usr/local/lib/python3.11/dist-packages (from typer<1.0,>=0.12->gradio) (1.5.4)\n",
            "Requirement already satisfied: rich>=10.11.0 in /usr/local/lib/python3.11/dist-packages (from typer<1.0,>=0.12->gradio) (13.9.4)\n",
            "Requirement already satisfied: six>=1.5 in /usr/local/lib/python3.11/dist-packages (from python-dateutil>=2.8.2->pandas<3.0,>=1.0->gradio) (1.17.0)\n",
            "Requirement already satisfied: markdown-it-py>=2.2.0 in /usr/local/lib/python3.11/dist-packages (from rich>=10.11.0->typer<1.0,>=0.12->gradio) (3.0.0)\n",
            "Requirement already satisfied: pygments<3.0.0,>=2.13.0 in /usr/local/lib/python3.11/dist-packages (from rich>=10.11.0->typer<1.0,>=0.12->gradio) (2.18.0)\n",
            "Requirement already satisfied: charset-normalizer<4,>=2 in /usr/local/lib/python3.11/dist-packages (from requests->huggingface-hub>=0.28.1->gradio) (3.4.1)\n",
            "Requirement already satisfied: urllib3<3,>=1.21.1 in /usr/local/lib/python3.11/dist-packages (from requests->huggingface-hub>=0.28.1->gradio) (2.3.0)\n",
            "Requirement already satisfied: mdurl~=0.1 in /usr/local/lib/python3.11/dist-packages (from markdown-it-py>=2.2.0->rich>=10.11.0->typer<1.0,>=0.12->gradio) (0.1.2)\n",
            "Downloading gradio-5.23.1-py3-none-any.whl (51.3 MB)\n",
            "\u001b[2K   \u001b[90m━━━━━━━━━━━━━━━━━━━━━━━━━━━━━━━━━━━━━━━━\u001b[0m \u001b[32m51.3/51.3 MB\u001b[0m \u001b[31m19.7 MB/s\u001b[0m eta \u001b[36m0:00:00\u001b[0m\n",
            "\u001b[?25hDownloading gradio_client-1.8.0-py3-none-any.whl (322 kB)\n",
            "\u001b[2K   \u001b[90m━━━━━━━━━━━━━━━━━━━━━━━━━━━━━━━━━━━━━━━━\u001b[0m \u001b[32m322.2/322.2 kB\u001b[0m \u001b[31m23.6 MB/s\u001b[0m eta \u001b[36m0:00:00\u001b[0m\n",
            "\u001b[?25hDownloading aiofiles-23.2.1-py3-none-any.whl (15 kB)\n",
            "Downloading fastapi-0.115.12-py3-none-any.whl (95 kB)\n",
            "\u001b[2K   \u001b[90m━━━━━━━━━━━━━━━━━━━━━━━━━━━━━━━━━━━━━━━━\u001b[0m \u001b[32m95.2/95.2 kB\u001b[0m \u001b[31m9.8 MB/s\u001b[0m eta \u001b[36m0:00:00\u001b[0m\n",
            "\u001b[?25hDownloading groovy-0.1.2-py3-none-any.whl (14 kB)\n",
            "Downloading python_multipart-0.0.20-py3-none-any.whl (24 kB)\n",
            "Downloading ruff-0.11.2-py3-none-manylinux_2_17_x86_64.manylinux2014_x86_64.whl (11.3 MB)\n",
            "\u001b[2K   \u001b[90m━━━━━━━━━━━━━━━━━━━━━━━━━━━━━━━━━━━━━━━━\u001b[0m \u001b[32m11.3/11.3 MB\u001b[0m \u001b[31m122.3 MB/s\u001b[0m eta \u001b[36m0:00:00\u001b[0m\n",
            "\u001b[?25hDownloading safehttpx-0.1.6-py3-none-any.whl (8.7 kB)\n",
            "Downloading semantic_version-2.10.0-py2.py3-none-any.whl (15 kB)\n",
            "Downloading starlette-0.46.1-py3-none-any.whl (71 kB)\n",
            "\u001b[2K   \u001b[90m━━━━━━━━━━━━━━━━━━━━━━━━━━━━━━━━━━━━━━━━\u001b[0m \u001b[32m72.0/72.0 kB\u001b[0m \u001b[31m7.5 MB/s\u001b[0m eta \u001b[36m0:00:00\u001b[0m\n",
            "\u001b[?25hDownloading tomlkit-0.13.2-py3-none-any.whl (37 kB)\n",
            "Downloading uvicorn-0.34.0-py3-none-any.whl (62 kB)\n",
            "\u001b[2K   \u001b[90m━━━━━━━━━━━━━━━━━━━━━━━━━━━━━━━━━━━━━━━━\u001b[0m \u001b[32m62.3/62.3 kB\u001b[0m \u001b[31m6.1 MB/s\u001b[0m eta \u001b[36m0:00:00\u001b[0m\n",
            "\u001b[?25hDownloading ffmpy-0.5.0-py3-none-any.whl (6.0 kB)\n",
            "Downloading pydub-0.25.1-py2.py3-none-any.whl (32 kB)\n",
            "Installing collected packages: pydub, uvicorn, tomlkit, semantic-version, ruff, python-multipart, groovy, ffmpy, aiofiles, starlette, safehttpx, gradio-client, fastapi, gradio\n",
            "Successfully installed aiofiles-23.2.1 fastapi-0.115.12 ffmpy-0.5.0 gradio-5.23.1 gradio-client-1.8.0 groovy-0.1.2 pydub-0.25.1 python-multipart-0.0.20 ruff-0.11.2 safehttpx-0.1.6 semantic-version-2.10.0 starlette-0.46.1 tomlkit-0.13.2 uvicorn-0.34.0\n"
          ]
        }
      ]
    },
    {
      "cell_type": "code",
      "source": [
        "import pandas as pd\n",
        "import numpy as np\n",
        "from sklearn.ensemble import RandomForestClassifier\n",
        "from sklearn.preprocessing import MultiLabelBinarizer, LabelEncoder\n",
        "from sklearn.model_selection import train_test_split\n",
        "from sklearn.metrics import accuracy_score\n",
        "import gradio as gr\n",
        "import warnings\n",
        "warnings.filterwarnings('ignore')\n",
        "\n",
        "# Step 1: Load and Preprocess the Data\n",
        "try:\n",
        "    df = pd.read_excel('Untitled spreadsheet.xlsx')\n",
        "    print(\"Data loaded successfully!\")\n",
        "except FileNotFoundError:\n",
        "    print(\"Error: 'Untitled spreadsheet.xlsx' not found. Please ensure the file exists.\")\n",
        "    exit()\n",
        "except Exception as e:\n",
        "    print(f\"An error occurred: {e}\")\n",
        "    exit()\n",
        "\n",
        "# Remove irrelevant columns\n",
        "irrelevant_cols = ['AID', 'Breathing', 'Awareness', 'Suitability']\n",
        "df = df.drop(columns=irrelevant_cols, errors='ignore')\n",
        "\n",
        "# Handle missing values\n",
        "df['Contraindications'] = df['Contraindications'].fillna('none')\n",
        "df['Targeted Mental Problems'] = df['Targeted Mental Problems'].fillna('none')\n",
        "df['Targeted Physical Problems'] = df['Targeted Physical Problems'].fillna('none')\n",
        "\n",
        "# Standardize text (lowercase for consistency)\n",
        "for col in ['Level', 'Target Areas', 'Targeted Mental Problems', 'Targeted Physical Problems', 'Weight Goal Alignment']:\n",
        "    df[col] = df[col].str.lower()\n",
        "\n",
        "# Encode categorical variables\n",
        "le_level = LabelEncoder()\n",
        "df['Level'] = le_level.fit_transform(df['Level'])\n",
        "\n",
        "le_target_areas = LabelEncoder()\n",
        "df['Target Areas'] = le_target_areas.fit_transform(df['Target Areas'])\n",
        "\n",
        "le_weight_goal = LabelEncoder()\n",
        "df['Weight Goal Alignment'] = le_weight_goal.fit_transform(df['Weight Goal Alignment'])\n",
        "\n",
        "# Multi-label binarize mental and physical problems\n",
        "mlb_mental = MultiLabelBinarizer()\n",
        "mental_problems = mlb_mental.fit_transform(df['Targeted Mental Problems'].str.split(', '))\n",
        "mental_df = pd.DataFrame(mental_problems, columns=mlb_mental.classes_)\n",
        "\n",
        "mlb_physical = MultiLabelBinarizer()\n",
        "physical_problems = mlb_physical.fit_transform(df['Targeted Physical Problems'].str.split(', '))\n",
        "physical_df = pd.DataFrame(physical_problems, columns=mlb_physical.classes_)\n",
        "\n",
        "# Combine features into a single DataFrame\n",
        "pose_features = pd.concat([df[['Level', 'Target Areas', 'Weight Goal Alignment']], mental_df, physical_df], axis=1)\n",
        "\n",
        "def generate_training_data(df, pose_features, n_samples=1000):\n",
        "    X, y = [], []\n",
        "    all_mental_problems = list(mlb_mental.classes_)\n",
        "    all_physical_problems = list(mlb_physical.classes_)\n",
        "    target_areas_options = ['arms', 'legs', 'core', 'back', 'flexibility', 'balance']\n",
        "\n",
        "    # Get encoded values for weight goals\n",
        "    both_encoded = le_weight_goal.transform(['both'])[0] if 'both' in le_weight_goal.classes_ else None\n",
        "    lose_encoded = [le_weight_goal.transform([wg])[0] for wg in le_weight_goal.classes_ if 'lose' in wg]\n",
        "    gain_encoded = [le_weight_goal.transform([wg])[0] for wg in le_weight_goal.classes_ if 'gain' in wg]\n",
        "\n",
        "    for _ in range(n_samples):\n",
        "        # Simulate user profile\n",
        "        height = np.random.randint(150, 200)\n",
        "        weight = np.random.randint(50, 120)\n",
        "        age = np.random.randint(20, 80)\n",
        "        problem_type = np.random.choice(['mental', 'physical'])\n",
        "        specific_problem = (np.random.choice(all_mental_problems) if problem_type == 'mental'\n",
        "                           else np.random.choice(all_physical_problems))\n",
        "        target_areas = np.random.choice(target_areas_options, size=np.random.randint(1, 4), replace=False)\n",
        "        weight_goal = np.random.choice(['lose weight', 'gain muscle'])\n",
        "\n",
        "        for idx, row in df.iterrows():\n",
        "            # User features\n",
        "            user_features = [\n",
        "                height,\n",
        "                weight,\n",
        "                age,\n",
        "                1 if problem_type == 'mental' else 0,\n",
        "                1 if specific_problem in row['Targeted Mental Problems'].split(', ') or\n",
        "                     specific_problem in row['Targeted Physical Problems'].split(', ') else 0,\n",
        "                1 if 'arms' in target_areas else 0,\n",
        "                1 if 'legs' in target_areas else 0,\n",
        "                1 if 'core' in target_areas else 0,\n",
        "                1 if 'back' in target_areas else 0,\n",
        "                1 if 'flexibility' in target_areas else 0,\n",
        "                1 if 'balance' in target_areas else 0,\n",
        "                1 if weight_goal == 'lose weight' else 0\n",
        "            ]\n",
        "\n",
        "            # Pose features\n",
        "            pose_vec = pose_features.iloc[idx].values\n",
        "\n",
        "            # Label: 1 if suitable, 0 if not\n",
        "            age_ok = age < 60\n",
        "            weight_ok = weight < 100\n",
        "            contra_ok = specific_problem not in row['Contraindications'].lower()\n",
        "            problem_match = (problem_type == 'mental' and specific_problem in row['Targeted Mental Problems']) or \\\n",
        "                            (problem_type == 'physical' and specific_problem in row['Targeted Physical Problems'])\n",
        "\n",
        "            # Target area match (assuming this is already fixed similarly)\n",
        "            encoded_user_target_areas = [le_target_areas.transform([area])[0] for area in target_areas\n",
        "                                        if area in le_target_areas.classes_]\n",
        "            target_area_match = row['Target Areas'] in encoded_user_target_areas if encoded_user_target_areas else False\n",
        "\n",
        "            # Fixed weight goal match\n",
        "            pose_weight_goal = row['Weight Goal Alignment']\n",
        "            if both_encoded is not None and pose_weight_goal == both_encoded:\n",
        "                weight_goal_match = True\n",
        "            elif weight_goal == 'lose weight' and any(pose_weight_goal == le for le in lose_encoded):\n",
        "                weight_goal_match = True\n",
        "            elif weight_goal == 'gain muscle' and any(pose_weight_goal == ge for ge in gain_encoded):\n",
        "                weight_goal_match = True\n",
        "            else:\n",
        "                weight_goal_match = False\n",
        "\n",
        "            label = 1 if age_ok and weight_ok and contra_ok and problem_match and target_area_match and weight_goal_match else 0\n",
        "\n",
        "            X.append(np.concatenate([user_features, pose_vec]))\n",
        "            y.append(label)\n",
        "\n",
        "    return np.array(X), np.array(y)\n",
        "\n",
        "# Call the function\n",
        "X, y = generate_training_data(df, pose_features)\n",
        "X, y = generate_training_data(df, pose_features)\n",
        "\n",
        "# Step 3: Train the Model\n",
        "X_train, X_test, y_train, y_test = train_test_split(X, y, test_size=0.2, random_state=42)\n",
        "model = RandomForestClassifier(n_estimators=100, random_state=42)\n",
        "model.fit(X_train, y_train)\n",
        "\n",
        "# Evaluate the model\n",
        "y_pred = model.predict(X_test)\n",
        "print(f\"Model Accuracy: {accuracy_score(y_test, y_pred):.2f}\")\n",
        "\n",
        "\n"
      ],
      "metadata": {
        "id": "aHLdpZH_FiJz"
      },
      "execution_count": null,
      "outputs": []
    },
    {
      "cell_type": "code",
      "source": [
        "import joblib\n",
        "\n",
        "# Save the trained model\n",
        "joblib.dump(model, 'yoga_recommendation_model.pkl')\n",
        "\n",
        "# Save all encoders\n",
        "joblib.dump(le_level, 'le_level.pkl')\n",
        "joblib.dump(le_target_areas, 'le_target_areas.pkl')\n",
        "joblib.dump(le_weight_goal, 'le_weight_goal.pkl')\n",
        "joblib.dump(mlb_mental, 'mlb_mental.pkl')\n",
        "joblib.dump(mlb_physical, 'mlb_physical.pkl')"
      ],
      "metadata": {
        "colab": {
          "base_uri": "https://localhost:8080/"
        },
        "id": "Isw-QEFgR0mG",
        "outputId": "b6dff292-1285-4438-9063-f4d228d4cf64"
      },
      "execution_count": 5,
      "outputs": [
        {
          "output_type": "execute_result",
          "data": {
            "text/plain": [
              "['mlb_physical.pkl']"
            ]
          },
          "metadata": {},
          "execution_count": 5
        }
      ]
    },
    {
      "cell_type": "code",
      "source": [
        "# Load the saved model and encoders\n",
        "model = joblib.load('yoga_recommendation_model.pkl')\n",
        "le_level = joblib.load('le_level.pkl')\n",
        "le_target_areas = joblib.load('le_target_areas.pkl')\n",
        "le_weight_goal = joblib.load('le_weight_goal.pkl')\n",
        "mlb_mental = joblib.load('mlb_mental.pkl')\n",
        "mlb_physical = joblib.load('mlb_physical.pkl')"
      ],
      "metadata": {
        "id": "E2kztJrvR4VD"
      },
      "execution_count": 6,
      "outputs": []
    },
    {
      "cell_type": "code",
      "source": [
        "def recommend_poses(height, weight, age, target_areas_arms, target_areas_legs, target_areas_core,\n",
        "                    target_areas_back, target_areas_flexibility, target_areas_balance,\n",
        "                    weight_goal, health_type, specific_problem='none'):\n",
        "    # Default specific problem if not provided\n",
        "    if specific_problem == '':\n",
        "        specific_problem = 'none'\n",
        "\n",
        "    # Process target areas from Gradio checkboxes\n",
        "    target_areas_list = []\n",
        "    if target_areas_arms: target_areas_list.append('arms')\n",
        "    if target_areas_legs: target_areas_list.append('legs')\n",
        "    if target_areas_core: target_areas_list.append('core')\n",
        "    if target_areas_back: target_areas_list.append('back')\n",
        "    if target_areas_flexibility: target_areas_list.append('flexibility')\n",
        "    if target_areas_balance: target_areas_list.append('balance')\n",
        "\n",
        "    # Create user feature vector\n",
        "    user_features = [\n",
        "        height,\n",
        "        weight,\n",
        "        age,\n",
        "        1 if health_type.lower() == 'mental' else 0,\n",
        "        1 if specific_problem.lower() in (df['Targeted Mental Problems'] + df['Targeted Physical Problems']).str.lower() else 0,\n",
        "        1 if 'arms' in target_areas_list else 0,\n",
        "        1 if 'legs' in target_areas_list else 0,\n",
        "        1 if 'core' in target_areas_list else 0,\n",
        "        1 if 'back' in target_areas_list else 0,\n",
        "        1 if 'flexibility' in target_areas_list else 0,\n",
        "        1 if 'balance' in target_areas_list else 0,\n",
        "        1 if weight_goal.lower() == 'lose weight' else 0\n",
        "    ]\n",
        "\n",
        "    # Predict suitability for all poses\n",
        "    X_pred = []\n",
        "    for idx in range(len(df)):\n",
        "        pose_vec = pose_features.iloc[idx].values\n",
        "        X_pred.append(np.concatenate([user_features, pose_vec]))\n",
        "\n",
        "    probs = model.predict_proba(np.array(X_pred))[:, 1]  # Probability of suitability\n",
        "    top_indices = np.argsort(probs)[::-1][:5]  # Top 5 recommendations\n",
        "\n",
        "    # Format recommendations\n",
        "    recommendations = df.iloc[top_indices][['AName', 'Description', 'Benefits', 'Contraindications', 'Level', 'Target Areas']]\n",
        "    recommendations['Level'] = le_level.inverse_transform(recommendations['Level'])\n",
        "    recommendations['Target Areas'] = le_target_areas.inverse_transform(recommendations['Target Areas'])\n",
        "    return recommendations.to_html(index=False)"
      ],
      "metadata": {
        "id": "PTWJ5OeEQgnj"
      },
      "execution_count": 7,
      "outputs": []
    },
    {
      "cell_type": "code",
      "source": [
        "import gradio as gr\n",
        "\n",
        "with gr.Blocks() as demo:\n",
        "    gr.Markdown(\"# Personalized Yoga Recommendations\")\n",
        "\n",
        "    with gr.Row():\n",
        "        height = gr.Slider(100, 250, value=170, label=\"Height (cm)\", step=1)\n",
        "        weight = gr.Slider(30, 150, value=70, label=\"Weight (kg)\", step=1)\n",
        "        age = gr.Slider(10, 100, value=30, label=\"Age\", step=1)\n",
        "\n",
        "    gr.Markdown(\"### Target Areas\")\n",
        "    target_areas_arms = gr.Checkbox(label=\"Arms\")\n",
        "    target_areas_legs = gr.Checkbox(label=\"Legs\")\n",
        "    target_areas_core = gr.Checkbox(label=\"Core\")\n",
        "    target_areas_back = gr.Checkbox(label=\"Back\")\n",
        "    target_areas_flexibility = gr.Checkbox(label=\"Flexibility\")\n",
        "    target_areas_balance = gr.Checkbox(label=\"Balance\")\n",
        "\n",
        "    gr.Markdown(\"### Weight Goal\")\n",
        "    weight_goal = gr.Radio(choices=[\"Lose Weight\", \"Gain Muscle\"], value=\"Lose Weight\", label=\"Weight Goal\")\n",
        "\n",
        "    gr.Markdown(\"### Health Focus\")\n",
        "    health_type = gr.Radio(choices=[\"Mental\", \"Physical\"], value=\"Physical\", label=\"Mental or Physical Health\")\n",
        "\n",
        "    gr.Markdown(\"### Specific Problem (Optional)\")\n",
        "    specific_problem = gr.Textbox(label=\"Specific Problem (e.g., stress relief, high bp)\", placeholder=\"Enter a specific problem or leave blank\")\n",
        "\n",
        "    submit_button = gr.Button(\"Get Recommendations\")\n",
        "    output = gr.HTML(label=\"Recommended Yoga Poses\")\n",
        "\n",
        "    submit_button.click(\n",
        "        fn=recommend_poses,\n",
        "        inputs=[height, weight, age,\n",
        "                target_areas_arms, target_areas_legs, target_areas_core,\n",
        "                target_areas_back, target_areas_flexibility, target_areas_balance,\n",
        "                weight_goal, health_type, specific_problem],\n",
        "        outputs=output\n",
        "    )\n",
        "\n",
        "# Launch the Gradio interface\n",
        "demo.launch()"
      ],
      "metadata": {
        "colab": {
          "base_uri": "https://localhost:8080/",
          "height": 650
        },
        "id": "zs1Bz8iWNHtB",
        "outputId": "831f1baf-85d9-42a1-d6f6-5b02ba8a1938"
      },
      "execution_count": 8,
      "outputs": [
        {
          "output_type": "stream",
          "name": "stdout",
          "text": [
            "Running Gradio in a Colab notebook requires sharing enabled. Automatically setting `share=True` (you can turn this off by setting `share=False` in `launch()` explicitly).\n",
            "\n",
            "Colab notebook detected. To show errors in colab notebook, set debug=True in launch()\n",
            "* Running on public URL: https://8f939879f4840bcbf8.gradio.live\n",
            "\n",
            "This share link expires in 72 hours. For free permanent hosting and GPU upgrades, run `gradio deploy` from the terminal in the working directory to deploy to Hugging Face Spaces (https://huggingface.co/spaces)\n"
          ]
        },
        {
          "output_type": "display_data",
          "data": {
            "text/plain": [
              "<IPython.core.display.HTML object>"
            ],
            "text/html": [
              "<div><iframe src=\"https://8f939879f4840bcbf8.gradio.live\" width=\"100%\" height=\"500\" allow=\"autoplay; camera; microphone; clipboard-read; clipboard-write;\" frameborder=\"0\" allowfullscreen></iframe></div>"
            ]
          },
          "metadata": {}
        },
        {
          "output_type": "execute_result",
          "data": {
            "text/plain": []
          },
          "metadata": {},
          "execution_count": 8
        }
      ]
    },
    {
      "cell_type": "code",
      "source": [
        "# Save the dataset\n",
        "df.to_excel('data.xlsx', index=False)"
      ],
      "metadata": {
        "id": "Nhpo2VK5Pu-9"
      },
      "execution_count": 9,
      "outputs": []
    },
    {
      "cell_type": "code",
      "source": [
        "# When prompted for a password, use an access token with write permissions.\n",
        "# Generate one from your settings: https://huggingface.co/settings/tokens\n",
        "!git clone https://huggingface.co/spaces/ManasiPandit/Yoga_Recommender"
      ],
      "metadata": {
        "colab": {
          "base_uri": "https://localhost:8080/"
        },
        "id": "r3pFfmubTgLj",
        "outputId": "615625e1-4b86-4379-a0d9-62039ab1d7ae"
      },
      "execution_count": 11,
      "outputs": [
        {
          "output_type": "stream",
          "name": "stdout",
          "text": [
            "Cloning into 'Yoga_Recommender'...\n",
            "remote: Enumerating objects: 4, done.\u001b[K\n",
            "remote: Total 4 (delta 0), reused 0 (delta 0), pack-reused 4 (from 1)\u001b[K\n",
            "Unpacking objects: 100% (4/4), 1.29 KiB | 263.00 KiB/s, done.\n"
          ]
        }
      ]
    },
    {
      "cell_type": "code",
      "source": [
        "!git add app.py\n",
        "!git commit -m \"Add application file\"\n",
        "!git push"
      ],
      "metadata": {
        "colab": {
          "base_uri": "https://localhost:8080/"
        },
        "id": "3wF4mAKaThbf",
        "outputId": "baf872c7-3e06-487c-a6f9-402389672a34"
      },
      "execution_count": 12,
      "outputs": [
        {
          "output_type": "stream",
          "name": "stdout",
          "text": [
            "fatal: not a git repository (or any of the parent directories): .git\n",
            "fatal: not a git repository (or any of the parent directories): .git\n",
            "fatal: not a git repository (or any of the parent directories): .git\n"
          ]
        }
      ]
    },
    {
      "cell_type": "code",
      "source": [],
      "metadata": {
        "id": "GvpNEHPOTom_"
      },
      "execution_count": null,
      "outputs": []
    }
  ]
}